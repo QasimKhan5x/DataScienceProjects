{
 "cells": [
  {
   "cell_type": "markdown",
   "metadata": {},
   "source": [
    "# Profitable App Profiles for the App Store and Google Play Markets\n",
    "\n",
    "*Our goal for this project is to analyze data to help developers understand what type of apps are likely to attract more users.*\n",
    "\n",
    "For this project, we will only look at apps that are free to download and install, and our main source of revenue consists of in-app ads. This means our revenue for any given app is mostly influenced by the number of users who use our app — the more users that see and engage with the ads, the better.\n",
    "\n",
    "### Dataset Sources\n",
    "1. [Apple iOS app store](https://www.kaggle.com/ramamet4/app-store-apple-data-set-10k-apps)\n",
    "2. [Google Play Store apps](https://www.kaggle.com/lava18/google-play-store-apps/discussion/120506)"
   ]
  },
  {
   "cell_type": "markdown",
   "metadata": {},
   "source": [
    "## Opening and Exploring the Data"
   ]
  },
  {
   "cell_type": "code",
   "execution_count": 1,
   "metadata": {},
   "outputs": [],
   "source": [
    "def explore_data(dataset, start, end, rows_and_columns=False):\n",
    "    '''\n",
    "    Slices the data set using dataset[start:end].\n",
    "    Loops through the slice, and for each iteration, prints a row and a newline\n",
    "    Prints the number of rows and columns if rows_and_columns is True.\n",
    "    dataset shouldn't have a header row, otherwise the function will print the wrong number of rows \n",
    "    (one more row compared to the actual length).\n",
    "\n",
    "            Parameters:\n",
    "                    dataset (list): A list of lists\n",
    "                    start (int): An integer representing the starting index of a slice of data from the dataset\n",
    "                    end (int): An integer representing the ending index of a slice of data from the dataset\n",
    "                    rows_and_columns (bool): A boolean, False by default, that indicates whether to print the dataset's \n",
    "                                             rows and columns\n",
    "\n",
    "    '''\n",
    "    \n",
    "    dataset_slice = dataset[start:end]    \n",
    "    for row in dataset_slice:\n",
    "        print(row)\n",
    "        print('\\n') # adds a new (empty) line after each row\n",
    "\n",
    "    if rows_and_columns:\n",
    "        print('Number of rows:', len(dataset))\n",
    "        print('Number of columns:', len(dataset[0]))"
   ]
  },
  {
   "cell_type": "code",
   "execution_count": 2,
   "metadata": {},
   "outputs": [],
   "source": [
    "# Open dataset and convert them to list of lists\n",
    "from csv import reader\n",
    "file_1 = open('AppleStore.csv', encoding='utf8')\n",
    "file_2 = open('googleplaystore.csv', encoding='utf8')\n",
    "\n",
    "reader_1 = reader(file_1)\n",
    "reader_2 = reader(file_2)\n",
    "\n",
    "app_store = list(reader_1)\n",
    "play_store = list(reader_2)"
   ]
  },
  {
   "cell_type": "code",
   "execution_count": 3,
   "metadata": {},
   "outputs": [
    {
     "name": "stdout",
     "output_type": "stream",
     "text": [
      "['id', 'track_name', 'size_bytes', 'currency', 'price', 'rating_count_tot', 'rating_count_ver', 'user_rating', 'user_rating_ver', 'ver', 'cont_rating', 'prime_genre', 'sup_devices.num', 'ipadSc_urls.num', 'lang.num', 'vpp_lic']\n",
      "\n",
      "\n",
      "['284882215', 'Facebook', '389879808', 'USD', '0.0', '2974676', '212', '3.5', '3.5', '95.0', '4+', 'Social Networking', '37', '1', '29', '1']\n",
      "\n",
      "\n",
      "['389801252', 'Instagram', '113954816', 'USD', '0.0', '2161558', '1289', '4.5', '4.0', '10.23', '12+', 'Photo & Video', '37', '0', '29', '1']\n",
      "\n",
      "\n",
      "['529479190', 'Clash of Clans', '116476928', 'USD', '0.0', '2130805', '579', '4.5', '4.5', '9.24.12', '9+', 'Games', '38', '5', '18', '1']\n",
      "\n",
      "\n",
      "['420009108', 'Temple Run', '65921024', 'USD', '0.0', '1724546', '3842', '4.5', '4.0', '1.6.2', '9+', 'Games', '40', '5', '1', '1']\n",
      "\n",
      "\n",
      "Number of rows: 7198\n",
      "Number of columns: 16\n"
     ]
    }
   ],
   "source": [
    "explore_data(app_store, 0, 5, True)"
   ]
  },
  {
   "cell_type": "code",
   "execution_count": 4,
   "metadata": {},
   "outputs": [
    {
     "name": "stdout",
     "output_type": "stream",
     "text": [
      "['App', 'Category', 'Rating', 'Reviews', 'Size', 'Installs', 'Type', 'Price', 'Content Rating', 'Genres', 'Last Updated', 'Current Ver', 'Android Ver']\n",
      "\n",
      "\n",
      "['Photo Editor & Candy Camera & Grid & ScrapBook', 'ART_AND_DESIGN', '4.1', '159', '19M', '10,000+', 'Free', '0', 'Everyone', 'Art & Design', 'January 7, 2018', '1.0.0', '4.0.3 and up']\n",
      "\n",
      "\n",
      "['Coloring book moana', 'ART_AND_DESIGN', '3.9', '967', '14M', '500,000+', 'Free', '0', 'Everyone', 'Art & Design;Pretend Play', 'January 15, 2018', '2.0.0', '4.0.3 and up']\n",
      "\n",
      "\n",
      "['U Launcher Lite – FREE Live Cool Themes, Hide Apps', 'ART_AND_DESIGN', '4.7', '87510', '8.7M', '5,000,000+', 'Free', '0', 'Everyone', 'Art & Design', 'August 1, 2018', '1.2.4', '4.0.3 and up']\n",
      "\n",
      "\n",
      "['Sketch - Draw & Paint', 'ART_AND_DESIGN', '4.5', '215644', '25M', '50,000,000+', 'Free', '0', 'Teen', 'Art & Design', 'June 8, 2018', 'Varies with device', '4.2 and up']\n",
      "\n",
      "\n",
      "Number of rows: 10842\n",
      "Number of columns: 13\n"
     ]
    }
   ],
   "source": [
    "explore_data(play_store, 0, 5, True)"
   ]
  },
  {
   "cell_type": "markdown",
   "metadata": {},
   "source": [
    "## Data Cleaning"
   ]
  },
  {
   "cell_type": "markdown",
   "metadata": {},
   "source": [
    "The row at index 10473 is faulty because its rating column is 19, which is above the maximum allowed limit of 5 for a rating. So, we'll delete it."
   ]
  },
  {
   "cell_type": "code",
   "execution_count": 5,
   "metadata": {},
   "outputs": [
    {
     "name": "stdout",
     "output_type": "stream",
     "text": [
      "['Life Made WI-Fi Touchscreen Photo Frame', '1.9', '19', '3.0M', '1,000+', 'Free', '0', 'Everyone', '', 'February 11, 2018', '1.0.19', '4.0 and up']\n"
     ]
    }
   ],
   "source": [
    "incorrect_index = 10473\n",
    "print(play_store[incorrect_index])"
   ]
  },
  {
   "cell_type": "code",
   "execution_count": 6,
   "metadata": {},
   "outputs": [],
   "source": [
    "del play_store[incorrect_index]"
   ]
  },
  {
   "cell_type": "markdown",
   "metadata": {},
   "source": [
    "### Deleting Duplicate Rows\n",
    "There are some apps with duplicate entries in the Google Play dataset. For example, Instagram has four entries:"
   ]
  },
  {
   "cell_type": "code",
   "execution_count": 7,
   "metadata": {},
   "outputs": [
    {
     "name": "stdout",
     "output_type": "stream",
     "text": [
      "['Instagram', 'SOCIAL', '4.5', '66577313', 'Varies with device', '1,000,000,000+', 'Free', '0', 'Teen', 'Social', 'July 31, 2018', 'Varies with device', 'Varies with device']\n",
      "['Instagram', 'SOCIAL', '4.5', '66577446', 'Varies with device', '1,000,000,000+', 'Free', '0', 'Teen', 'Social', 'July 31, 2018', 'Varies with device', 'Varies with device']\n",
      "['Instagram', 'SOCIAL', '4.5', '66577313', 'Varies with device', '1,000,000,000+', 'Free', '0', 'Teen', 'Social', 'July 31, 2018', 'Varies with device', 'Varies with device']\n",
      "['Instagram', 'SOCIAL', '4.5', '66509917', 'Varies with device', '1,000,000,000+', 'Free', '0', 'Teen', 'Social', 'July 31, 2018', 'Varies with device', 'Varies with device']\n"
     ]
    }
   ],
   "source": [
    "for app in play_store:\n",
    "    name = app[0]\n",
    "    if name == 'Instagram':\n",
    "        print(app)"
   ]
  },
  {
   "cell_type": "markdown",
   "metadata": {},
   "source": [
    "Let's count the total number of duplicate entries:"
   ]
  },
  {
   "cell_type": "code",
   "execution_count": 15,
   "metadata": {},
   "outputs": [
    {
     "name": "stdout",
     "output_type": "stream",
     "text": [
      "Number of duplicates 1181\n",
      "\n",
      "Examples of duplicate apps:\n",
      "['Quick PDF Scanner + OCR FREE', 'Box', 'Google My Business', 'ZOOM Cloud Meetings', 'join.me - Simple Meetings', 'Box', 'Zenefits', 'Google Ads', 'Google My Business', 'Slack', 'FreshBooks Classic', 'Insightly CRM', 'QuickBooks Accounting: Invoicing & Expenses', 'HipChat - Chat Built for Teams', 'Xero Accounting Software']\n"
     ]
    }
   ],
   "source": [
    "duplicates = []\n",
    "unique = []\n",
    "\n",
    "for app in play_store[1:]:\n",
    "    name = app[0]\n",
    "    if name in unique:\n",
    "        duplicates.append(name)\n",
    "    else:\n",
    "        unique.append(name)\n",
    "        \n",
    "print(f'Number of duplicates {len(duplicates)}\\n')\n",
    "print(f'Examples of duplicate apps:\\n{duplicates[:15]}')"
   ]
  },
  {
   "cell_type": "markdown",
   "metadata": {},
   "source": [
    "Let's just keep the entry that has the largest value in the **Reviews** column, since it is the most recent entry"
   ]
  },
  {
   "cell_type": "code",
   "execution_count": 22,
   "metadata": {},
   "outputs": [],
   "source": [
    "# a dictionary where each key is a unique app name and the \n",
    "# corresponding dictionary value is the highest number of \n",
    "# reviews of that app\n",
    "reviews_max = {}\n",
    "\n",
    "# Excluding the header row\n",
    "for app in play_store[1:]:\n",
    "    name = app[0]\n",
    "    n_reviews = int(app[3])\n",
    "    if name in reviews_max and reviews_max[name] < n_reviews or\\\n",
    "        name not in reviews_max:\n",
    "        reviews_max[name] = n_reviews\n",
    "\n",
    "# Ensure that the length of the dictionary is the same as actual length\n",
    "# of our dataset without duplicates\n",
    "assert len(reviews_max) == len(play_store[1:]) - len(duplicates)"
   ]
  },
  {
   "cell_type": "code",
   "execution_count": 24,
   "metadata": {},
   "outputs": [],
   "source": [
    "# Remove duplicates\n",
    "play_store_clean = []\n",
    "already_added = []\n",
    "\n",
    "# Include apps whose reviews are maximum\n",
    "for app in play_store[1:]:\n",
    "    name = app[0]\n",
    "    n_reviews = int(app[3])\n",
    "    # The second condition is for apps that have the same number of\n",
    "    # max reviews \n",
    "    if n_reviews == reviews_max[name] and name not in already_added:\n",
    "        play_store_clean.append(app)\n",
    "        already_added.append(name)"
   ]
  },
  {
   "cell_type": "markdown",
   "metadata": {},
   "source": [
    "We don't need to perform this procedure for apps in app_store because there are no duplicates since each app has a unique identifier in the id column."
   ]
  },
  {
   "cell_type": "markdown",
   "metadata": {},
   "source": [
    "### Removing Non-English apps\n",
    "Some apps in both datasets have apps with names that suggest they are not directed toward an English-speaking audience."
   ]
  },
  {
   "cell_type": "code",
   "execution_count": 25,
   "metadata": {},
   "outputs": [
    {
     "name": "stdout",
     "output_type": "stream",
     "text": [
      "BATTLE BEARS -1\n",
      "Beast Poker\n",
      "\n",
      "\n",
      "中国語 AQリスニング\n",
      "لعبة تقدر تربح DZ\n"
     ]
    }
   ],
   "source": [
    "print(app_store[813][1])\n",
    "print(app_store[6731][1])\n",
    "print('\\n')\n",
    "print(play_store_clean[4412][0])\n",
    "print(play_store_clean[7940][0])"
   ]
  },
  {
   "cell_type": "markdown",
   "metadata": {},
   "source": [
    "We're not interested in keeping these apps, so we'll remove them. We'll remove all the apps with names containing characters whose [ASCII](https://en.wikipedia.org/wiki/ASCII) value (obtained using `ord()`) is outside the range of English characters (0-127)."
   ]
  },
  {
   "cell_type": "code",
   "execution_count": 26,
   "metadata": {},
   "outputs": [],
   "source": [
    "def isEnglish(name):\n",
    "    '''\n",
    "    Takes in a string and checks if all of its characters belong to\n",
    "    the English alphabet\n",
    "    '''\n",
    "    for char in name:\n",
    "        if ord(char) > 127:\n",
    "            return False\n",
    "    return True"
   ]
  },
  {
   "cell_type": "markdown",
   "metadata": {},
   "source": [
    "Let's test the function to see if it works"
   ]
  },
  {
   "cell_type": "code",
   "execution_count": 28,
   "metadata": {},
   "outputs": [
    {
     "name": "stdout",
     "output_type": "stream",
     "text": [
      "True\n",
      "False\n",
      "False\n",
      "False\n"
     ]
    }
   ],
   "source": [
    "name_english = 'Instagram'\n",
    "name_chinese = '爱奇艺PPS -《欢乐颂2》电视剧热播'\n",
    "name_with_symbol = 'Docs To Go™ Free Office Suite'\n",
    "name_with_emoji = 'Instachat 😜'\n",
    "\n",
    "print(isEnglish(name_english))\n",
    "print(isEnglish(name_chinese))\n",
    "print(isEnglish(name_with_symbol))\n",
    "print(isEnglish(name_with_emoji))"
   ]
  },
  {
   "cell_type": "markdown",
   "metadata": {},
   "source": [
    "Unfortunately, the function also rejects app names in English that contain certain symbols or emojis, since their ASCII value is also above 127. \n",
    "\n",
    "To minimize the impact of data loss, we'll only remove an app if its name has more than three characters with corresponding numbers falling outside the ASCII range."
   ]
  },
  {
   "cell_type": "code",
   "execution_count": 29,
   "metadata": {},
   "outputs": [
    {
     "name": "stdout",
     "output_type": "stream",
     "text": [
      "True\n",
      "False\n",
      "True\n",
      "True\n"
     ]
    }
   ],
   "source": [
    "def isEnglish(name):\n",
    "    '''\n",
    "    Takes in a string and checks if all of its characters belong to\n",
    "    the English alphabet\n",
    "    '''\n",
    "    count = 0\n",
    "    for char in name:\n",
    "        if ord(char) > 127:\n",
    "            count += 1\n",
    "        if count > 3:\n",
    "            return False\n",
    "    return True\n",
    "\n",
    "print(isEnglish(name_english))\n",
    "print(isEnglish(name_chinese))\n",
    "print(isEnglish(name_with_symbol))\n",
    "print(isEnglish(name_with_emoji))"
   ]
  },
  {
   "cell_type": "code",
   "execution_count": 30,
   "metadata": {},
   "outputs": [
    {
     "name": "stdout",
     "output_type": "stream",
     "text": [
      "Length of App Store: 7197. Length of App Store with English apps: 6183\n",
      "\n",
      "Length of Play Store: 9659. Length of Play Store with English apps: 9614\n",
      "\n"
     ]
    }
   ],
   "source": [
    "# filter out non-English apps from both data sets\n",
    "app_store_english = []\n",
    "play_store_english = []\n",
    "\n",
    "for app in app_store[1:]:\n",
    "    name = app[1]\n",
    "    if isEnglish(name):\n",
    "        app_store_english.append(app)\n",
    "\n",
    "for app in play_store_clean:\n",
    "    name = app[0]\n",
    "    if isEnglish(name):\n",
    "        play_store_english.append(app)\n",
    "        \n",
    "print(f'Length of App Store: {len(app_store[1:])}. Length of App Store \\\n",
    "with English apps: {len(app_store_english)}\\n')\n",
    "print(f'Length of Play Store: {len(play_store_clean)}. Length of Play Store \\\n",
    "with English apps: {len(play_store_english)}\\n')"
   ]
  },
  {
   "cell_type": "markdown",
   "metadata": {},
   "source": [
    "### Isolating Free Apps\n",
    "Our data sets contain both free and non-free apps; we'll need to isolate only the free apps for our analysis."
   ]
  },
  {
   "cell_type": "code",
   "execution_count": 37,
   "metadata": {},
   "outputs": [
    {
     "data": {
      "text/plain": [
       "(3222, 8864)"
      ]
     },
     "execution_count": 37,
     "metadata": {},
     "output_type": "execute_result"
    }
   ],
   "source": [
    "app_store_free, play_store_free = [], []\n",
    "\n",
    "for app in app_store_english:\n",
    "    price = float(app[4])\n",
    "    if price == 0.0:\n",
    "        app_store_free.append(app)\n",
    "        \n",
    "for app in play_store_english:\n",
    "    # Free apps have a price value of '0' so we'll just check for that\n",
    "    price = app[7]\n",
    "    if price == '0':\n",
    "        play_store_free.append(app)\n",
    "\n",
    "len(app_store_free), len(play_store_free)"
   ]
  },
  {
   "cell_type": "markdown",
   "metadata": {},
   "source": [
    "So, in the data cleaning process, we:\n",
    "- Removed inaccurate data\n",
    "- Removed duplicate app entries\n",
    "- Removed non-English apps\n",
    "- Isolated the free apps\n",
    "\n",
    "Now, we're left with 3222 iOS apps and 8864 android apps"
   ]
  },
  {
   "cell_type": "markdown",
   "metadata": {},
   "source": [
    "# Validation strategy for an app\n",
    "\n",
    "1. Build a minimal Android version of the app, and add it to Google Play.\n",
    "2. If the app has a good response from users, we develop it further.\n",
    "3. If the app is profitable after six months, we build an iOS version of the app and add it to the App Store\n",
    "\n",
    "Because our end goal is to add the app on both Google Play and the App Store, we need to find app profiles that are successful on both markets. For instance, a profile that works well for both markets might be a productivity app that makes use of [gamification](https://en.wikipedia.org/wiki/Gamification).\n",
    "\n",
    "Let's begin the analysis by getting a sense of what are the most common genres for each market."
   ]
  },
  {
   "cell_type": "markdown",
   "metadata": {},
   "source": [
    "## Most Common Apps by Genre"
   ]
  },
  {
   "cell_type": "code",
   "execution_count": 39,
   "metadata": {},
   "outputs": [
    {
     "name": "stdout",
     "output_type": "stream",
     "text": [
      "['id', 'track_name', 'size_bytes', 'currency', 'price', 'rating_count_tot', 'rating_count_ver', 'user_rating', 'user_rating_ver', 'ver', 'cont_rating', 'prime_genre', 'sup_devices.num', 'ipadSc_urls.num', 'lang.num', 'vpp_lic']\n",
      "\n",
      "\n",
      "['App', 'Category', 'Rating', 'Reviews', 'Size', 'Installs', 'Type', 'Price', 'Content Rating', 'Genres', 'Last Updated', 'Current Ver', 'Android Ver']\n"
     ]
    }
   ],
   "source": [
    "# Let's find the interesting columns of both datasets\n",
    "print(app_store[0])\n",
    "print('\\n')\n",
    "print(play_store[0])"
   ]
  },
  {
   "cell_type": "markdown",
   "metadata": {},
   "source": [
    "So, the columns that are of interest to us include the `prime_genre` column in the app_store and the `Category` and `Genres` columns in the play_store.\n",
    "\n",
    "Now, we'll create frequency tables that show percentages in a descending order"
   ]
  },
  {
   "cell_type": "code",
   "execution_count": 41,
   "metadata": {},
   "outputs": [],
   "source": [
    "def freq_table(dataset, index):\n",
    "    '''Build a frequency table for a column in a dataset'''\n",
    "    table = {}\n",
    "    for app in dataset:\n",
    "        val = app[index]\n",
    "        table[val] = table.get(val, 0) + 1\n",
    "    return table"
   ]
  },
  {
   "cell_type": "code",
   "execution_count": 42,
   "metadata": {},
   "outputs": [],
   "source": [
    "def display_table(dataset, index):\n",
    "    '''\n",
    "    Generates a frequency table using the freq_table() function.\n",
    "    Transforms the frequency table into a list of tuples, \n",
    "    then sorts the list in a descending order.\n",
    "    Prints the entries of the frequency table in descending order.\n",
    "\n",
    "            Parameters:\n",
    "                    dataset (list): A list of lists\n",
    "                    index (int): integer inde x of the dataset\n",
    "\n",
    "    '''\n",
    "    table = freq_table(dataset, index)\n",
    "    table_display = []\n",
    "    for key in table:\n",
    "        key_val_as_tuple = (table[key], key)\n",
    "        table_display.append(key_val_as_tuple)\n",
    "\n",
    "    table_sorted = sorted(table_display, reverse = True)\n",
    "    for entry in table_sorted:\n",
    "        print(entry[1], ':', entry[0])"
   ]
  },
  {
   "cell_type": "code",
   "execution_count": 43,
   "metadata": {
    "collapsed": true
   },
   "outputs": [
    {
     "name": "stdout",
     "output_type": "stream",
     "text": [
      "Games : 1874\n",
      "Entertainment : 254\n",
      "Photo & Video : 160\n",
      "Education : 118\n",
      "Social Networking : 106\n",
      "Shopping : 84\n",
      "Utilities : 81\n",
      "Sports : 69\n",
      "Music : 66\n",
      "Health & Fitness : 65\n",
      "Productivity : 56\n",
      "Lifestyle : 51\n",
      "News : 43\n",
      "Travel : 40\n",
      "Finance : 36\n",
      "Weather : 28\n",
      "Food & Drink : 26\n",
      "Reference : 18\n",
      "Business : 17\n",
      "Book : 14\n",
      "Navigation : 6\n",
      "Medical : 6\n",
      "Catalogs : 4\n"
     ]
    }
   ],
   "source": [
    "display_table(app_store_free, 11) # prime_genre"
   ]
  },
  {
   "cell_type": "code",
   "execution_count": 44,
   "metadata": {
    "collapsed": true
   },
   "outputs": [
    {
     "name": "stdout",
     "output_type": "stream",
     "text": [
      "FAMILY : 1676\n",
      "GAME : 862\n",
      "TOOLS : 750\n",
      "BUSINESS : 407\n",
      "LIFESTYLE : 346\n",
      "PRODUCTIVITY : 345\n",
      "FINANCE : 328\n",
      "MEDICAL : 313\n",
      "SPORTS : 301\n",
      "PERSONALIZATION : 294\n",
      "COMMUNICATION : 287\n",
      "HEALTH_AND_FITNESS : 273\n",
      "PHOTOGRAPHY : 261\n",
      "NEWS_AND_MAGAZINES : 248\n",
      "SOCIAL : 236\n",
      "TRAVEL_AND_LOCAL : 207\n",
      "SHOPPING : 199\n",
      "BOOKS_AND_REFERENCE : 190\n",
      "DATING : 165\n",
      "VIDEO_PLAYERS : 159\n",
      "MAPS_AND_NAVIGATION : 124\n",
      "FOOD_AND_DRINK : 110\n",
      "EDUCATION : 103\n",
      "ENTERTAINMENT : 85\n",
      "LIBRARIES_AND_DEMO : 83\n",
      "AUTO_AND_VEHICLES : 82\n",
      "HOUSE_AND_HOME : 73\n",
      "WEATHER : 71\n",
      "EVENTS : 63\n",
      "PARENTING : 58\n",
      "ART_AND_DESIGN : 57\n",
      "COMICS : 55\n",
      "BEAUTY : 53\n"
     ]
    }
   ],
   "source": [
    "display_table(play_store_free, 1) # Category"
   ]
  },
  {
   "cell_type": "code",
   "execution_count": 45,
   "metadata": {
    "collapsed": true
   },
   "outputs": [
    {
     "name": "stdout",
     "output_type": "stream",
     "text": [
      "Tools : 749\n",
      "Entertainment : 538\n",
      "Education : 474\n",
      "Business : 407\n",
      "Productivity : 345\n",
      "Lifestyle : 345\n",
      "Finance : 328\n",
      "Medical : 313\n",
      "Sports : 307\n",
      "Personalization : 294\n",
      "Communication : 287\n",
      "Action : 275\n",
      "Health & Fitness : 273\n",
      "Photography : 261\n",
      "News & Magazines : 248\n",
      "Social : 236\n",
      "Travel & Local : 206\n",
      "Shopping : 199\n",
      "Books & Reference : 190\n",
      "Simulation : 181\n",
      "Dating : 165\n",
      "Arcade : 164\n",
      "Video Players & Editors : 157\n",
      "Casual : 156\n",
      "Maps & Navigation : 124\n",
      "Food & Drink : 110\n",
      "Puzzle : 100\n",
      "Racing : 88\n",
      "Role Playing : 83\n",
      "Libraries & Demo : 83\n",
      "Auto & Vehicles : 82\n",
      "Strategy : 81\n",
      "House & Home : 73\n",
      "Weather : 71\n",
      "Events : 63\n",
      "Adventure : 60\n",
      "Comics : 54\n",
      "Beauty : 53\n",
      "Art & Design : 53\n",
      "Parenting : 44\n",
      "Card : 40\n",
      "Casino : 38\n",
      "Trivia : 37\n",
      "Educational;Education : 35\n",
      "Board : 34\n",
      "Educational : 33\n",
      "Education;Education : 30\n",
      "Word : 23\n",
      "Casual;Pretend Play : 21\n",
      "Music : 18\n",
      "Racing;Action & Adventure : 15\n",
      "Puzzle;Brain Games : 15\n",
      "Entertainment;Music & Video : 15\n",
      "Casual;Brain Games : 12\n",
      "Casual;Action & Adventure : 12\n",
      "Arcade;Action & Adventure : 11\n",
      "Action;Action & Adventure : 9\n",
      "Educational;Pretend Play : 8\n",
      "Simulation;Action & Adventure : 7\n",
      "Parenting;Education : 7\n",
      "Entertainment;Brain Games : 7\n",
      "Board;Brain Games : 7\n",
      "Parenting;Music & Video : 6\n",
      "Educational;Brain Games : 6\n",
      "Casual;Creativity : 6\n",
      "Art & Design;Creativity : 6\n",
      "Education;Pretend Play : 5\n",
      "Role Playing;Pretend Play : 4\n",
      "Education;Creativity : 4\n",
      "Role Playing;Action & Adventure : 3\n",
      "Puzzle;Action & Adventure : 3\n",
      "Entertainment;Creativity : 3\n",
      "Entertainment;Action & Adventure : 3\n",
      "Educational;Creativity : 3\n",
      "Educational;Action & Adventure : 3\n",
      "Education;Music & Video : 3\n",
      "Education;Brain Games : 3\n",
      "Education;Action & Adventure : 3\n",
      "Adventure;Action & Adventure : 3\n",
      "Video Players & Editors;Music & Video : 2\n",
      "Sports;Action & Adventure : 2\n",
      "Simulation;Pretend Play : 2\n",
      "Puzzle;Creativity : 2\n",
      "Music;Music & Video : 2\n",
      "Entertainment;Pretend Play : 2\n",
      "Casual;Education : 2\n",
      "Board;Action & Adventure : 2\n",
      "Video Players & Editors;Creativity : 1\n",
      "Trivia;Education : 1\n",
      "Travel & Local;Action & Adventure : 1\n",
      "Tools;Education : 1\n",
      "Strategy;Education : 1\n",
      "Strategy;Creativity : 1\n",
      "Strategy;Action & Adventure : 1\n",
      "Simulation;Education : 1\n",
      "Role Playing;Brain Games : 1\n",
      "Racing;Pretend Play : 1\n",
      "Puzzle;Education : 1\n",
      "Parenting;Brain Games : 1\n",
      "Music & Audio;Music & Video : 1\n",
      "Lifestyle;Pretend Play : 1\n",
      "Lifestyle;Education : 1\n",
      "Health & Fitness;Education : 1\n",
      "Health & Fitness;Action & Adventure : 1\n",
      "Entertainment;Education : 1\n",
      "Communication;Creativity : 1\n",
      "Comics;Creativity : 1\n",
      "Casual;Music & Video : 1\n",
      "Card;Action & Adventure : 1\n",
      "Books & Reference;Education : 1\n",
      "Art & Design;Pretend Play : 1\n",
      "Art & Design;Action & Adventure : 1\n",
      "Arcade;Pretend Play : 1\n",
      "Adventure;Education : 1\n"
     ]
    }
   ],
   "source": [
    "display_table(play_store_free, 9) # Genres"
   ]
  },
  {
   "cell_type": "markdown",
   "metadata": {},
   "source": [
    "## Analysis of App Store Frequency Table\n",
    "\n",
    "- What is the most common genre? What is the runner-up?\n",
    "\n",
    "Games is the most common. Entertainment is the runner-up.\n",
    "\n",
    "- What other patterns do you see?\n",
    "\n",
    "Apps made for leisurely time are popular.\n",
    "\n",
    "- What is the general impression — are most of the apps designed for practical purposes (education, shopping, utilities, productivity, lifestyle) or more for entertainment (games, photo and video, social networking, sports, music)?\n",
    "\n",
    "People prefer entertainment apps over apps for practical purposes \n",
    "\n",
    "- Can you recommend an app profile for the App Store market based on this frequency table alone? If there's a large number of apps for a particular genre, does that also imply that apps of that genre generally have a large number of users?\n",
    "\n",
    "A popular app profile for the App Store should include apps designed for entertainment. Since, 'Games' has the most apps, it would be a very profitable option. Moreover, since these are free apps, people produce more of these because they can easily attract a larger audience, which in turn, leads to more ad revenue. However, this does not have to be true since there might be greater supply than demand for entertainment apps."
   ]
  },
  {
   "cell_type": "markdown",
   "metadata": {},
   "source": [
    "## Analysis of Play Store Frequency Table\n",
    "\n",
    "- What are the most common genres?\n",
    "\n",
    "FAMILY and GAME are the most common categories. Tools and Entertainment are the most common genres.\n",
    "\n",
    "- What other patterns do you see?\n",
    "\n",
    "For categories, apps made for practical purposes are quite common. The same can be said for the genres. However, since FAMILY and GAME mostly include games for kids, their representation in the play store is significant.\n",
    "\n",
    "- Compare the patterns you see for the Google Play market with those you saw for the App Store market.\n",
    "\n",
    "The play store supplies more apps made for practical purposes, whereas the app store supplies more apps for leisurely purposes.\n",
    "\n",
    "- Can you recommend an app profile based on what you found so far? Do the frequency tables you generated reveal the most frequent app genres or what genres have the most users?\n",
    "\n",
    "The app profile that I would recommend would include a mix of productivity and entertainment based apps, with more productivity apps.\n",
    "These frequency tables don't say anything about what genres have most users though."
   ]
  },
  {
   "cell_type": "markdown",
   "metadata": {},
   "source": [
    "## Most Popular Apps by Genre\n",
    "Now, we'd like to get an idea about the kind of apps with the most users.\n",
    "\n",
    "One way to find out what genres are the most popular (have the most users) is to calculate the average number of installs for each app genre.\n",
    "\n",
    "For the Google Play data set, we can find this information in the `Installs` column, but this information is missing for the App Store data set. As a workaround, we'll take the total number of user ratings as a proxy, which we can find in the `rating_count_tot` column."
   ]
  },
  {
   "cell_type": "markdown",
   "metadata": {},
   "source": [
    "###  App Store\n",
    "Let's start with calculating the average number of user ratings per app genre on the App Store."
   ]
  },
  {
   "cell_type": "code",
   "execution_count": 63,
   "metadata": {},
   "outputs": [
    {
     "name": "stdout",
     "output_type": "stream",
     "text": [
      "Genre: Navigation. Rating: 86090.3\n",
      "Genre: Reference. Rating: 74942.1\n",
      "Genre: Social Networking. Rating: 71548.3\n",
      "Genre: Music. Rating: 57326.5\n",
      "Genre: Weather. Rating: 52279.9\n",
      "Genre: Book. Rating: 39758.5\n",
      "Genre: Food & Drink. Rating: 33333.9\n",
      "Genre: Finance. Rating: 31467.9\n",
      "Genre: Photo & Video. Rating: 28441.5\n",
      "Genre: Travel. Rating: 28243.8\n",
      "Genre: Shopping. Rating: 26919.7\n",
      "Genre: Health & Fitness. Rating: 23298.0\n",
      "Genre: Sports. Rating: 23008.9\n",
      "Genre: Games. Rating: 22788.7\n",
      "Genre: News. Rating: 21248.0\n",
      "Genre: Productivity. Rating: 21028.4\n",
      "Genre: Utilities. Rating: 18684.5\n",
      "Genre: Lifestyle. Rating: 16485.8\n",
      "Genre: Entertainment. Rating: 14029.8\n",
      "Genre: Business. Rating: 7491.1\n",
      "Genre: Education. Rating: 7004.0\n",
      "Genre: Catalogs. Rating: 4004.0\n",
      "Genre: Medical. Rating: 612.0\n"
     ]
    }
   ],
   "source": [
    "prime_genre_frequency = freq_table(app_store_free, 11)\n",
    "genre_rating = {}\n",
    "\n",
    "for genre in prime_genre_frequency:\n",
    "    total = 0\n",
    "    len_genre = 0\n",
    "    for app in app_store_free:\n",
    "        genre_app = app[11]\n",
    "        if genre_app == genre:\n",
    "            n_ratings = int(app[5])\n",
    "            total += n_ratings\n",
    "            len_genre += 1\n",
    "    genre_rating[genre] = round(total / len_genre, 1)\n",
    "\n",
    "# Print the genres sorted by their rating in descending order\n",
    "for genre, rating in sorted(genre_rating.items(),\\\n",
    "                            key = lambda x : x[1], reverse = True):\n",
    "    print(f'Genre: {genre}. Rating: {rating}')"
   ]
  },
  {
   "cell_type": "markdown",
   "metadata": {},
   "source": [
    "Apps used for navigation, reference and social networking have been rated the highest. Let's see the apps and their ratings for each genre."
   ]
  },
  {
   "cell_type": "code",
   "execution_count": 51,
   "metadata": {
    "collapsed": true
   },
   "outputs": [
    {
     "name": "stdout",
     "output_type": "stream",
     "text": [
      "Waze - GPS Navigation, Maps & Real-time Traffic : 345046\n",
      "Google Maps - Navigation & Transit : 154911\n",
      "Geocaching® : 12811\n",
      "CoPilot GPS – Car Navigation & Offline Maps : 3582\n",
      "ImmobilienScout24: Real Estate Search in Germany : 187\n",
      "Railway Route Search : 5\n",
      "---------------------------\n",
      "Bible : 985920\n",
      "Dictionary.com Dictionary & Thesaurus : 200047\n",
      "Dictionary.com Dictionary & Thesaurus for iPad : 54175\n",
      "Google Translate : 26786\n",
      "Muslim Pro: Ramadan 2017 Prayer Times, Azan, Quran : 18418\n",
      "New Furniture Mods - Pocket Wiki & Game Tools for Minecraft PC Edition : 17588\n",
      "Merriam-Webster Dictionary : 16849\n",
      "Night Sky : 12122\n",
      "City Maps for Minecraft PE - The Best Maps for Minecraft Pocket Edition (MCPE) : 8535\n",
      "LUCKY BLOCK MOD ™ for Minecraft PC Edition - The Best Pocket Wiki & Mods Installer Tools : 4693\n",
      "GUNS MODS for Minecraft PC Edition - Mods Tools : 1497\n",
      "Guides for Pokémon GO - Pokemon GO News and Cheats : 826\n",
      "WWDC : 762\n",
      "Horror Maps for Minecraft PE - Download The Scariest Maps for Minecraft Pocket Edition (MCPE) Free : 718\n",
      "VPN Express : 14\n",
      "Real Bike Traffic Rider Virtual Reality Glasses : 8\n",
      "教えて!goo : 0\n",
      "Jishokun-Japanese English Dictionary & Translator : 0\n",
      "---------------------------\n",
      "Facebook : 2974676\n",
      "Pinterest : 1061624\n",
      "Skype for iPhone : 373519\n",
      "Messenger : 351466\n",
      "Tumblr : 334293\n",
      "WhatsApp Messenger : 287589\n",
      "Kik : 260965\n",
      "ooVoo – Free Video Call, Text and Voice : 177501\n",
      "TextNow - Unlimited Text + Calls : 164963\n",
      "Viber Messenger – Text & Call : 164249\n",
      "Followers - Social Analytics For Instagram : 112778\n",
      "MeetMe - Chat and Meet New People : 97072\n",
      "We Heart It - Fashion, wallpapers, quotes, tattoos : 90414\n",
      "InsTrack for Instagram - Analytics Plus More : 85535\n",
      "Tango - Free Video Call, Voice and Chat : 75412\n",
      "LinkedIn : 71856\n",
      "Match™ - #1 Dating App. : 60659\n",
      "Skype for iPad : 60163\n",
      "POF - Best Dating App for Conversations : 52642\n",
      "Timehop : 49510\n",
      "Find My Family, Friends & iPhone - Life360 Locator : 43877\n",
      "Whisper - Share, Express, Meet : 39819\n",
      "Hangouts : 36404\n",
      "LINE PLAY - Your Avatar World : 34677\n",
      "WeChat : 34584\n",
      "Badoo - Meet New People, Chat, Socialize. : 34428\n",
      "Followers + for Instagram - Follower Analytics : 28633\n",
      "GroupMe : 28260\n",
      "Marco Polo Video Walkie Talkie : 27662\n",
      "Miitomo : 23965\n",
      "SimSimi : 23530\n",
      "Grindr - Gay and same sex guys chat, meet and date : 23201\n",
      "Wishbone - Compare Anything : 20649\n",
      "imo video calls and chat : 18841\n",
      "After School - Funny Anonymous School News : 18482\n",
      "Quick Reposter - Repost, Regram and Reshare Photos : 17694\n",
      "Weibo HD : 16772\n",
      "Repost for Instagram : 15185\n",
      "Live.me – Live Video Chat & Make Friends Nearby : 14724\n",
      "Nextdoor : 14402\n",
      "Followers Analytics for Instagram - InstaReport : 13914\n",
      "YouNow: Live Stream Video Chat : 12079\n",
      "FollowMeter for Instagram - Followers Tracking : 11976\n",
      "LINE : 11437\n",
      "eHarmony™ Dating App - Meet Singles : 11124\n",
      "Discord - Chat for Gamers : 9152\n",
      "QQ : 9109\n",
      "Telegram Messenger : 7573\n",
      "Weibo : 7265\n",
      "Periscope - Live Video Streaming Around the World : 6062\n",
      "Chat for Whatsapp - iPad Version : 5060\n",
      "QQ HD : 5058\n",
      "Followers Analysis Tool For Instagram App Free : 4253\n",
      "live.ly - live video streaming : 4145\n",
      "Houseparty - Group Video Chat : 3991\n",
      "SOMA Messenger : 3232\n",
      "Monkey : 3060\n",
      "Down To Lunch : 2535\n",
      "Flinch - Video Chat Staring Contest : 2134\n",
      "Highrise - Your Avatar Community : 2011\n",
      "LOVOO - Dating Chat : 1985\n",
      "PlayStation®Messages : 1918\n",
      "BOO! - Video chat camera with filters & stickers : 1805\n",
      "Qzone : 1649\n",
      "Chatous - Chat with new people : 1609\n",
      "Kiwi - Q&A : 1538\n",
      "GhostCodes - a discovery app for Snapchat : 1313\n",
      "Jodel : 1193\n",
      "FireChat : 1037\n",
      "Google Duo - simple video calling : 1033\n",
      "Fiesta by Tango - Chat & Meet New People : 885\n",
      "Google Allo — smart messaging : 862\n",
      "Peach — share vividly : 727\n",
      "Hey! VINA - Where Women Meet New Friends : 719\n",
      "Battlefield™ Companion : 689\n",
      "All Devices for WhatsApp - Messenger for iPad : 682\n",
      "Chat for Pokemon Go - GoChat : 500\n",
      "IAmNaughty – Dating App to Meet New People Online : 463\n",
      "Qzone HD : 458\n",
      "Zenly - Locate your friends in realtime : 427\n",
      "League of Legends Friends : 420\n",
      "豆瓣 : 407\n",
      "Candid - Speak Your Mind Freely : 398\n",
      "知乎 : 397\n",
      "Selfeo : 366\n",
      "Fake-A-Location Free ™ : 354\n",
      "Popcorn Buzz - Free Group Calls : 281\n",
      "Fam — Group video calling for iMessage : 279\n",
      "QQ International : 274\n",
      "Ameba : 269\n",
      "SoundCloud Pulse: for creators : 240\n",
      "Tantan : 235\n",
      "Cougar Dating & Life Style App for Mature Women : 213\n",
      "Rawr Messenger - Dab your chat : 180\n",
      "WhenToPost: Best Time to Post Photos for Instagram : 158\n",
      "Inke—Broadcast an amazing life : 147\n",
      "Mustknow - anonymous video Q&A : 53\n",
      "CTFxCmoji : 39\n",
      "Lobi : 36\n",
      "Chain: Collaborate On MyVideo Story/Group Video : 35\n",
      "botman - Real time video chat : 7\n",
      "BestieBox : 0\n",
      "MATCH ON LINE chat : 0\n",
      "niconico ch : 0\n",
      "LINE BLOG : 0\n",
      "bit-tube - Live Stream Video Chat : 0\n",
      "---------------------------\n"
     ]
    }
   ],
   "source": [
    "for i in range(3):\n",
    "    for app in app_store_free:\n",
    "        if i == 0 and app[11] == 'Navigation':\n",
    "            print(app[1], ':', app[5])\n",
    "        elif i == 1 and app[11] == 'Reference':\n",
    "            print(app[1], ':', app[5])\n",
    "        elif i == 2 and app[11] == 'Social Networking':\n",
    "            print(app[1], ':', app[5])\n",
    "    print('---------------------------')"
   ]
  },
  {
   "cell_type": "markdown",
   "metadata": {},
   "source": [
    "For each genre:\n",
    "\n",
    "- Navigation is dominated by Google Maps and Waze since they account for 96.7% of ratings\n",
    "- The Bible is the most popular reference app since it accounts for 37% of ratings\n",
    "- Social Networking is not dominated by Facebook and Pinterest since they account for 88% of ratings.\n",
    "\n",
    "Since Navigation and Social Networking are dominated by just two apps, this means that the bulk of their average ratings is because of the apps mentioned above for each category. Thus, a newcomer won't get much of an audience. Therefore, a Reference app is the best option to inlude in an App Portfolio for the App Store since it isn't dominated by a particular app.\n",
    "\n",
    "The best reference app should include a popular book, a dictionary, an audio version of both, and some quizzes to make it entertaining.\n",
    "\n",
    "Music and Weather apps are also a good niche to target."
   ]
  },
  {
   "cell_type": "markdown",
   "metadata": {},
   "source": [
    "### Play Store\n",
    "We have data about the number of installs for the Google Play market, so we should be able to get a clearer picture about genre popularity."
   ]
  },
  {
   "cell_type": "code",
   "execution_count": 64,
   "metadata": {},
   "outputs": [
    {
     "name": "stdout",
     "output_type": "stream",
     "text": [
      "1,000,000+ : 1394\n",
      "100,000+ : 1024\n",
      "10,000,000+ : 935\n",
      "10,000+ : 904\n",
      "1,000+ : 744\n",
      "100+ : 613\n",
      "5,000,000+ : 605\n",
      "500,000+ : 493\n",
      "50,000+ : 423\n",
      "5,000+ : 400\n",
      "10+ : 314\n",
      "500+ : 288\n",
      "50,000,000+ : 204\n",
      "100,000,000+ : 189\n",
      "50+ : 170\n",
      "5+ : 70\n",
      "1+ : 45\n",
      "500,000,000+ : 24\n",
      "1,000,000,000+ : 20\n",
      "0+ : 4\n",
      "0 : 1\n"
     ]
    }
   ],
   "source": [
    "display_table(play_store_free, 5) # Installs column"
   ]
  },
  {
   "cell_type": "markdown",
   "metadata": {},
   "source": [
    "These are intervals, so we don't know whether an app with 100,000+ installs has 100,000, 200,000, or 350,000 installs. However, we don't need very precise data for our purposes — we only want to find out which app genres attract the most users, and we don't need perfect precision with respect to the number of users.\n",
    "\n",
    "We're going to leave the numbers as they are, which means that we'll consider that an app with 100,000+ installs has 100,000 installs, and an app with 1,000,000+ installs has 1,000,000 installs, and so on.\n",
    "\n",
    "To perform computations, however, we'll need to convert each install number from string to float. This means we need to remove the commas and the plus characters, otherwise the conversion will fail and raise an error."
   ]
  },
  {
   "cell_type": "markdown",
   "metadata": {},
   "source": [
    "#### Checking Categories"
   ]
  },
  {
   "cell_type": "code",
   "execution_count": 70,
   "metadata": {},
   "outputs": [
    {
     "name": "stdout",
     "output_type": "stream",
     "text": [
      "Category: COMMUNICATION. Avg Rating: 38456119.2\n",
      "Category: VIDEO_PLAYERS. Avg Rating: 24727872.5\n",
      "Category: SOCIAL. Avg Rating: 23253652.1\n",
      "Category: PHOTOGRAPHY. Avg Rating: 17840110.4\n",
      "Category: PRODUCTIVITY. Avg Rating: 16787331.3\n",
      "Category: GAME. Avg Rating: 15588015.6\n",
      "Category: TRAVEL_AND_LOCAL. Avg Rating: 13984077.7\n",
      "Category: ENTERTAINMENT. Avg Rating: 11640705.9\n",
      "Category: TOOLS. Avg Rating: 10801391.3\n",
      "Category: NEWS_AND_MAGAZINES. Avg Rating: 9549178.5\n",
      "Category: BOOKS_AND_REFERENCE. Avg Rating: 8767811.9\n",
      "Category: SHOPPING. Avg Rating: 7036877.3\n",
      "Category: PERSONALIZATION. Avg Rating: 5201482.6\n",
      "Category: WEATHER. Avg Rating: 5074486.2\n",
      "Category: HEALTH_AND_FITNESS. Avg Rating: 4188822.0\n",
      "Category: MAPS_AND_NAVIGATION. Avg Rating: 4056941.8\n",
      "Category: FAMILY. Avg Rating: 3695641.8\n",
      "Category: SPORTS. Avg Rating: 3638640.1\n",
      "Category: ART_AND_DESIGN. Avg Rating: 1986335.1\n",
      "Category: FOOD_AND_DRINK. Avg Rating: 1924897.7\n",
      "Category: EDUCATION. Avg Rating: 1833495.1\n",
      "Category: BUSINESS. Avg Rating: 1712290.1\n",
      "Category: LIFESTYLE. Avg Rating: 1437816.3\n",
      "Category: FINANCE. Avg Rating: 1387692.5\n",
      "Category: HOUSE_AND_HOME. Avg Rating: 1331540.6\n",
      "Category: DATING. Avg Rating: 854028.8\n",
      "Category: COMICS. Avg Rating: 817657.3\n",
      "Category: AUTO_AND_VEHICLES. Avg Rating: 647317.8\n",
      "Category: LIBRARIES_AND_DEMO. Avg Rating: 638503.7\n",
      "Category: PARENTING. Avg Rating: 542603.6\n",
      "Category: BEAUTY. Avg Rating: 513151.9\n",
      "Category: EVENTS. Avg Rating: 253542.2\n",
      "Category: MEDICAL. Avg Rating: 120550.6\n"
     ]
    }
   ],
   "source": [
    "category_freq = freq_table(play_store_free, 1)\n",
    "avg_category_installs = {}\n",
    "for cat in category_freq:\n",
    "    total = 0\n",
    "    len_cat = 0\n",
    "    for app in play_store_free:\n",
    "        category_app = app[1]\n",
    "        if category_app == cat:\n",
    "            installs = app[5]\n",
    "            installs = installs.replace(',', '')\n",
    "            installs = installs.replace('+', '')\n",
    "            installs = int(installs)\n",
    "            total += installs\n",
    "            len_cat += 1\n",
    "    avg_category_installs[cat] = total / len_cat\n",
    "    \n",
    "for category, rating in sorted(avg_category_installs.items(),\n",
    "                               key = lambda x : x[1], reverse = True):\n",
    "    print(F'Category: {category}. Avg Rating: {rating:.1f}')"
   ]
  },
  {
   "cell_type": "markdown",
   "metadata": {},
   "source": [
    "On average, communication apps have the most installs: 38,456,119. This number is heavily skewed up by a few apps that have over one billion installs (WhatsApp, Facebook Messenger, Skype, Google Chrome, Gmail, and Hangouts), and a few others with over 100 and 500 million installs:"
   ]
  },
  {
   "cell_type": "code",
   "execution_count": 71,
   "metadata": {
    "collapsed": true
   },
   "outputs": [
    {
     "name": "stdout",
     "output_type": "stream",
     "text": [
      "WhatsApp Messenger : 1,000,000,000+\n",
      "imo beta free calls and text : 100,000,000+\n",
      "Android Messages : 100,000,000+\n",
      "Google Duo - High Quality Video Calls : 500,000,000+\n",
      "Messenger – Text and Video Chat for Free : 1,000,000,000+\n",
      "imo free video calls and chat : 500,000,000+\n",
      "Skype - free IM & video calls : 1,000,000,000+\n",
      "Who : 100,000,000+\n",
      "GO SMS Pro - Messenger, Free Themes, Emoji : 100,000,000+\n",
      "LINE: Free Calls & Messages : 500,000,000+\n",
      "Google Chrome: Fast & Secure : 1,000,000,000+\n",
      "Firefox Browser fast & private : 100,000,000+\n",
      "UC Browser - Fast Download Private & Secure : 500,000,000+\n",
      "Gmail : 1,000,000,000+\n",
      "Hangouts : 1,000,000,000+\n",
      "Messenger Lite: Free Calls & Messages : 100,000,000+\n",
      "Kik : 100,000,000+\n",
      "KakaoTalk: Free Calls & Text : 100,000,000+\n",
      "Opera Mini - fast web browser : 100,000,000+\n",
      "Opera Browser: Fast and Secure : 100,000,000+\n",
      "Telegram : 100,000,000+\n",
      "Truecaller: Caller ID, SMS spam blocking & Dialer : 100,000,000+\n",
      "UC Browser Mini -Tiny Fast Private & Secure : 100,000,000+\n",
      "Viber Messenger : 500,000,000+\n",
      "WeChat : 100,000,000+\n",
      "Yahoo Mail – Stay Organized : 100,000,000+\n",
      "BBM - Free Calls & Messages : 100,000,000+\n"
     ]
    }
   ],
   "source": [
    "for app in play_store_free:\n",
    "    if app[1] == 'COMMUNICATION' and (app[5] == '1,000,000,000+'\n",
    "                                      or app[5] == '500,000,000+'\n",
    "                                      or app[5] == '100,000,000+'):\n",
    "        print(app[0], ':', app[5])\n"
   ]
  },
  {
   "cell_type": "markdown",
   "metadata": {},
   "source": [
    "If we removed all the communication apps that have over 100 million installs, the average would be reduced roughly ten times:"
   ]
  },
  {
   "cell_type": "code",
   "execution_count": 73,
   "metadata": {},
   "outputs": [
    {
     "data": {
      "text/plain": [
       "3603485.3884615386"
      ]
     },
     "execution_count": 73,
     "metadata": {},
     "output_type": "execute_result"
    }
   ],
   "source": [
    "under_100_m = []\n",
    "\n",
    "for app in play_store_free:\n",
    "    n_installs = app[5]\n",
    "    n_installs = n_installs.replace(',', '')\n",
    "    n_installs = n_installs.replace('+', '')\n",
    "    if (app[1] == 'COMMUNICATION') and (float(n_installs) < 100000000):\n",
    "        under_100_m.append(float(n_installs))\n",
    "        \n",
    "sum(under_100_m) / len(under_100_m)"
   ]
  },
  {
   "cell_type": "markdown",
   "metadata": {},
   "source": [
    "We see the same pattern for the video players category, which is the runner-up with 24,727,872 installs. The market is dominated by apps like Youtube, Google Play Movies & TV, or MX Player. The pattern is repeated for social apps (where we have giants like Facebook, Instagram, Google+, etc.), photography apps (Google Photos and other popular photo editors), or productivity apps (Microsoft Word, Dropbox, Google Calendar, Evernote, etc.).\n",
    "\n",
    "Again, the main concern is that these app genres might seem more popular than they really are. Moreover, these niches seem to be dominated by a few giants who are hard to compete against.\n",
    "\n",
    "The game genre seems pretty popular, but previously we found out this part of the market seems a bit saturated, so we'd like to come up with a different app recommendation if possible.\n",
    "\n",
    "The books and reference genre looks fairly popular as well, with an average number of installs of 8,767,811. It's interesting to explore this in more depth, since we found this genre has some potential to work well on the App Store, and our aim is to recommend an app genre that shows potential for being profitable on both the App Store and Google Play.\n",
    "\n",
    "Let's take a look at some of the apps from this genre and their number of installs:"
   ]
  },
  {
   "cell_type": "code",
   "execution_count": 75,
   "metadata": {
    "collapsed": true
   },
   "outputs": [
    {
     "name": "stdout",
     "output_type": "stream",
     "text": [
      "E-Book Read - Read Book for free : 50,000+\n",
      "Download free book with green book : 100,000+\n",
      "Wikipedia : 10,000,000+\n",
      "Cool Reader : 10,000,000+\n",
      "Free Panda Radio Music : 100,000+\n",
      "Book store : 1,000,000+\n",
      "FBReader: Favorite Book Reader : 10,000,000+\n",
      "English Grammar Complete Handbook : 500,000+\n",
      "Free Books - Spirit Fanfiction and Stories : 1,000,000+\n",
      "Google Play Books : 1,000,000,000+\n",
      "AlReader -any text book reader : 5,000,000+\n",
      "Offline English Dictionary : 100,000+\n",
      "Offline: English to Tagalog Dictionary : 500,000+\n",
      "FamilySearch Tree : 1,000,000+\n",
      "Cloud of Books : 1,000,000+\n",
      "Recipes of Prophetic Medicine for free : 500,000+\n",
      "ReadEra – free ebook reader : 1,000,000+\n",
      "Anonymous caller detection : 10,000+\n",
      "Ebook Reader : 5,000,000+\n",
      "Litnet - E-books : 100,000+\n",
      "Read books online : 5,000,000+\n",
      "English to Urdu Dictionary : 500,000+\n",
      "eBoox: book reader fb2 epub zip : 1,000,000+\n",
      "English Persian Dictionary : 500,000+\n",
      "Flybook : 500,000+\n",
      "All Maths Formulas : 1,000,000+\n",
      "Ancestry : 5,000,000+\n",
      "HTC Help : 10,000,000+\n",
      "English translation from Bengali : 100,000+\n",
      "Pdf Book Download - Read Pdf Book : 100,000+\n",
      "Free Book Reader : 100,000+\n",
      "eBoox new: Reader for fb2 epub zip books : 50,000+\n",
      "Only 30 days in English, the guideline is guaranteed : 500,000+\n",
      "Moon+ Reader : 10,000,000+\n",
      "SH-02J Owner's Manual (Android 8.0) : 50,000+\n",
      "English-Myanmar Dictionary : 1,000,000+\n",
      "Golden Dictionary (EN-AR) : 1,000,000+\n",
      "All Language Translator Free : 1,000,000+\n",
      "Azpen eReader : 500,000+\n",
      "URBANO V 02 instruction manual : 100,000+\n",
      "Bible : 100,000,000+\n",
      "C Programs and Reference : 50,000+\n",
      "C Offline Tutorial : 1,000+\n",
      "C Programs Handbook : 50,000+\n",
      "Amazon Kindle : 100,000,000+\n",
      "Aab e Hayat Full Novel : 100,000+\n",
      "Aldiko Book Reader : 10,000,000+\n",
      "Google I/O 2018 : 500,000+\n",
      "R Language Reference Guide : 10,000+\n",
      "Learn R Programming Full : 5,000+\n",
      "R Programing Offline Tutorial : 1,000+\n",
      "Guide for R Programming : 5+\n",
      "Learn R Programming : 10+\n",
      "R Quick Reference Big Data : 1,000+\n",
      "V Made : 100,000+\n",
      "Wattpad 📖 Free Books : 100,000,000+\n",
      "Dictionary - WordWeb : 5,000,000+\n",
      "Guide (for X-MEN) : 100,000+\n",
      "AC Air condition Troubleshoot,Repair,Maintenance : 5,000+\n",
      "AE Bulletins : 1,000+\n",
      "Ae Allah na Dai (Rasa) : 10,000+\n",
      "50000 Free eBooks & Free AudioBooks : 5,000,000+\n",
      "Ag PhD Field Guide : 10,000+\n",
      "Ag PhD Deficiencies : 10,000+\n",
      "Ag PhD Planting Population Calculator : 1,000+\n",
      "Ag PhD Soybean Diseases : 1,000+\n",
      "Fertilizer Removal By Crop : 50,000+\n",
      "A-J Media Vault : 50+\n",
      "Al-Quran (Free) : 10,000,000+\n",
      "Al Quran (Tafsir & by Word) : 500,000+\n",
      "Al Quran Indonesia : 10,000,000+\n",
      "Al'Quran Bahasa Indonesia : 10,000,000+\n",
      "Al Quran Al karim : 1,000,000+\n",
      "Al-Muhaffiz : 50,000+\n",
      "Al Quran : EAlim - Translations & MP3 Offline : 5,000,000+\n",
      "Al-Quran 30 Juz free copies : 500,000+\n",
      "Koran Read &MP3 30 Juz Offline : 1,000,000+\n",
      "Hafizi Quran 15 lines per page : 1,000,000+\n",
      "Quran for Android : 10,000,000+\n",
      "Surah Al-Waqiah : 100,000+\n",
      "Hisnul Al Muslim - Hisn Invocations & Adhkaar : 100,000+\n",
      "Satellite AR : 1,000,000+\n",
      "Audiobooks from Audible : 100,000,000+\n",
      "Kinot & Eichah for Tisha B'Av : 10,000+\n",
      "AW Tozer Devotionals - Daily : 5,000+\n",
      "Tozer Devotional -Series 1 : 1,000+\n",
      "The Pursuit of God : 1,000+\n",
      "AY Sing : 5,000+\n",
      "Ay Hasnain k Nana Milad Naat : 10,000+\n",
      "Ay Mohabbat Teri Khatir Novel : 10,000+\n",
      "Arizona Statutes, ARS (AZ Law) : 1,000+\n",
      "Oxford A-Z of English Usage : 1,000,000+\n",
      "BD Fishpedia : 1,000+\n",
      "BD All Sim Offer : 10,000+\n",
      "Youboox - Livres, BD et magazines : 500,000+\n",
      "B&H Kids AR : 10,000+\n",
      "B y H Niños ES : 5,000+\n",
      "Dictionary.com: Find Definitions for English Words : 10,000,000+\n",
      "English Dictionary - Offline : 10,000,000+\n",
      "Bible KJV : 5,000,000+\n",
      "Borneo Bible, BM Bible : 10,000+\n",
      "MOD Black for BM : 100+\n",
      "BM Box : 1,000+\n",
      "Anime Mod for BM : 100+\n",
      "NOOK: Read eBooks & Magazines : 10,000,000+\n",
      "NOOK Audiobooks : 500,000+\n",
      "NOOK App for NOOK Devices : 500,000+\n",
      "Browsery by Barnes & Noble : 5,000+\n",
      "bp e-store : 1,000+\n",
      "Brilliant Quotes: Life, Love, Family & Motivation : 1,000,000+\n",
      "BR Ambedkar Biography & Quotes : 10,000+\n",
      "BU Alsace : 100+\n",
      "Catholic La Bu Zo Kam : 500+\n",
      "Khrifa Hla Bu (Solfa) : 10+\n",
      "Kristian Hla Bu : 10,000+\n",
      "SA HLA BU : 1,000+\n",
      "Learn SAP BW : 500+\n",
      "Learn SAP BW on HANA : 500+\n",
      "CA Laws 2018 (California Laws and Codes) : 5,000+\n",
      "Bootable Methods(USB-CD-DVD) : 10,000+\n",
      "cloudLibrary : 100,000+\n",
      "SDA Collegiate Quarterly : 500+\n",
      "Sabbath School : 100,000+\n",
      "Cypress College Library : 100+\n",
      "Stats Royale for Clash Royale : 1,000,000+\n",
      "GATE 21 years CS Papers(2011-2018 Solved) : 50+\n",
      "Learn CT Scan Of Head : 5,000+\n",
      "Easy Cv maker 2018 : 10,000+\n",
      "How to Write CV : 100,000+\n",
      "CW Nuclear : 1,000+\n",
      "CY Spray nozzle : 10+\n",
      "BibleRead En Cy Zh Yue : 5+\n",
      "CZ-Help : 5+\n",
      "Modlitební knížka CZ : 500+\n",
      "Guide for DB Xenoverse : 10,000+\n",
      "Guide for DB Xenoverse 2 : 10,000+\n",
      "Guide for IMS DB : 10+\n",
      "DC HSEMA : 5,000+\n",
      "DC Public Library : 1,000+\n",
      "Painting Lulu DC Super Friends : 1,000+\n",
      "Dictionary : 10,000,000+\n",
      "Fix Error Google Playstore : 1,000+\n",
      "D. H. Lawrence Poems FREE : 1,000+\n",
      "Bilingual Dictionary Audio App : 5,000+\n",
      "DM Screen : 10,000+\n",
      "wikiHow: how to do anything : 1,000,000+\n",
      "Dr. Doug's Tips : 1,000+\n",
      "Bible du Semeur-BDS (French) : 50,000+\n",
      "La citadelle du musulman : 50,000+\n",
      "DV 2019 Entry Guide : 10,000+\n",
      "DV 2019 - EDV Photo & Form : 50,000+\n",
      "DV 2018 Winners Guide : 1,000+\n",
      "EB Annual Meetings : 1,000+\n",
      "EC - AP & Telangana : 5,000+\n",
      "TN Patta Citta & EC : 10,000+\n",
      "AP Stamps and Registration : 10,000+\n",
      "CompactiMa EC pH Calibration : 100+\n",
      "EGW Writings 2 : 100,000+\n",
      "EGW Writings : 1,000,000+\n",
      "Bible with EGW Comments : 100,000+\n",
      "My Little Pony AR Guide : 1,000,000+\n",
      "SDA Sabbath School Quarterly : 500,000+\n",
      "Duaa Ek Ibaadat : 5,000+\n",
      "Spanish English Translator : 10,000,000+\n",
      "Dictionary - Merriam-Webster : 10,000,000+\n",
      "JW Library : 10,000,000+\n",
      "Oxford Dictionary of English : Free : 10,000,000+\n",
      "English Hindi Dictionary : 10,000,000+\n",
      "English to Hindi Dictionary : 5,000,000+\n",
      "EP Research Service : 1,000+\n",
      "Hymnes et Louanges : 100,000+\n",
      "EU Charter : 1,000+\n",
      "EU Data Protection : 1,000+\n",
      "EU IP Codes : 100+\n",
      "EW PDF : 5+\n",
      "BakaReader EX : 100,000+\n",
      "EZ Quran : 50,000+\n",
      "FA Part 1 & 2 Past Papers Solved Free – Offline : 5,000+\n",
      "La Fe de Jesus : 1,000+\n",
      "La Fe de Jesús : 500+\n",
      "Le Fe de Jesus : 500+\n",
      "Florida - Pocket Brainbook : 1,000+\n",
      "Florida Statutes (FL Code) : 1,000+\n",
      "English To Shona Dictionary : 10,000+\n",
      "Greek Bible FP (Audio) : 1,000+\n",
      "Golden Dictionary (FR-AR) : 500,000+\n",
      "Fanfic-FR : 5,000+\n",
      "Bulgarian French Dictionary Fr : 10,000+\n",
      "Chemin (fr) : 1,000+\n",
      "The SCP Foundation DB fr nn5n : 1,000+\n"
     ]
    }
   ],
   "source": [
    "for app in play_store_free:\n",
    "    if app[1] == 'BOOKS_AND_REFERENCE':\n",
    "        print(app[0], ':', app[5])"
   ]
  },
  {
   "cell_type": "markdown",
   "metadata": {},
   "source": [
    "The book and reference genre includes a variety of apps: software for processing and reading ebooks, various collections of libraries, dictionaries, tutorials on programming or languages, etc. It seems there's still a small number of extremely popular apps that skew the average:\n",
    "\n"
   ]
  },
  {
   "cell_type": "code",
   "execution_count": 77,
   "metadata": {
    "collapsed": true
   },
   "outputs": [
    {
     "name": "stdout",
     "output_type": "stream",
     "text": [
      "Google Play Books : 1,000,000,000+\n",
      "Bible : 100,000,000+\n",
      "Amazon Kindle : 100,000,000+\n",
      "Wattpad 📖 Free Books : 100,000,000+\n",
      "Audiobooks from Audible : 100,000,000+\n"
     ]
    }
   ],
   "source": [
    "for app in play_store_free:\n",
    "    if app[1] == 'BOOKS_AND_REFERENCE' and (app[5] == '1,000,000,000+'\n",
    "                                            or app[5] == '500,000,000+'\n",
    "                                            or app[5] == '100,000,000+'):\n",
    "        print(app[0], ':', app[5])\n"
   ]
  },
  {
   "cell_type": "markdown",
   "metadata": {},
   "source": [
    "However, it looks like there are only a few very popular apps, so this market still shows potential. Let's try to get some app ideas based on the kind of apps that are somewhere in the middle in terms of popularity (between 1,000,000 and 100,000,000 downloads):\n",
    "\n"
   ]
  },
  {
   "cell_type": "code",
   "execution_count": 79,
   "metadata": {
    "collapsed": true
   },
   "outputs": [
    {
     "name": "stdout",
     "output_type": "stream",
     "text": [
      "Wikipedia : 10,000,000+\n",
      "Cool Reader : 10,000,000+\n",
      "Book store : 1,000,000+\n",
      "FBReader: Favorite Book Reader : 10,000,000+\n",
      "Free Books - Spirit Fanfiction and Stories : 1,000,000+\n",
      "AlReader -any text book reader : 5,000,000+\n",
      "FamilySearch Tree : 1,000,000+\n",
      "Cloud of Books : 1,000,000+\n",
      "ReadEra – free ebook reader : 1,000,000+\n",
      "Ebook Reader : 5,000,000+\n",
      "Read books online : 5,000,000+\n",
      "eBoox: book reader fb2 epub zip : 1,000,000+\n",
      "All Maths Formulas : 1,000,000+\n",
      "Ancestry : 5,000,000+\n",
      "HTC Help : 10,000,000+\n",
      "Moon+ Reader : 10,000,000+\n",
      "English-Myanmar Dictionary : 1,000,000+\n",
      "Golden Dictionary (EN-AR) : 1,000,000+\n",
      "All Language Translator Free : 1,000,000+\n",
      "Aldiko Book Reader : 10,000,000+\n",
      "Dictionary - WordWeb : 5,000,000+\n",
      "50000 Free eBooks & Free AudioBooks : 5,000,000+\n",
      "Al-Quran (Free) : 10,000,000+\n",
      "Al Quran Indonesia : 10,000,000+\n",
      "Al'Quran Bahasa Indonesia : 10,000,000+\n",
      "Al Quran Al karim : 1,000,000+\n",
      "Al Quran : EAlim - Translations & MP3 Offline : 5,000,000+\n",
      "Koran Read &MP3 30 Juz Offline : 1,000,000+\n",
      "Hafizi Quran 15 lines per page : 1,000,000+\n",
      "Quran for Android : 10,000,000+\n",
      "Satellite AR : 1,000,000+\n",
      "Oxford A-Z of English Usage : 1,000,000+\n",
      "Dictionary.com: Find Definitions for English Words : 10,000,000+\n",
      "English Dictionary - Offline : 10,000,000+\n",
      "Bible KJV : 5,000,000+\n",
      "NOOK: Read eBooks & Magazines : 10,000,000+\n",
      "Brilliant Quotes: Life, Love, Family & Motivation : 1,000,000+\n",
      "Stats Royale for Clash Royale : 1,000,000+\n",
      "Dictionary : 10,000,000+\n",
      "wikiHow: how to do anything : 1,000,000+\n",
      "EGW Writings : 1,000,000+\n",
      "My Little Pony AR Guide : 1,000,000+\n",
      "Spanish English Translator : 10,000,000+\n",
      "Dictionary - Merriam-Webster : 10,000,000+\n",
      "JW Library : 10,000,000+\n",
      "Oxford Dictionary of English : Free : 10,000,000+\n",
      "English Hindi Dictionary : 10,000,000+\n",
      "English to Hindi Dictionary : 5,000,000+\n"
     ]
    }
   ],
   "source": [
    "for app in play_store_free:\n",
    "    if app[1] == 'BOOKS_AND_REFERENCE' and (app[5] == '1,000,000+'\n",
    "                                            or app[5] == '5,000,000+'\n",
    "                                            or app[5] == '10,000,000+'\n",
    "                                            or app[5] == '50,000,000+'):\n",
    "        print(app[0], ':', app[5])\n"
   ]
  },
  {
   "cell_type": "markdown",
   "metadata": {},
   "source": [
    "This niche seems to be dominated by software for processing and reading ebooks, as well as various collections of libraries and dictionaries, so it's probably not a good idea to build similar apps since there'll be some significant competition.\n",
    "\n",
    "We also notice there are quite a few apps built around the book Quran, which suggests that building an app around a popular book can be profitable. It seems that taking a popular book (perhaps a more recent book) and turning it into an app could be profitable for both the Google Play and the App Store markets.\n",
    "\n",
    "However, it looks like the market is already full of libraries, so we need to add some special features besides the raw version of the book. This might include daily quotes from the book, an audio version of the book, quizzes on the book, a forum where people can discuss the book, etc."
   ]
  },
  {
   "cell_type": "markdown",
   "metadata": {},
   "source": [
    "#### Checking Genres"
   ]
  },
  {
   "cell_type": "code",
   "execution_count": 84,
   "metadata": {},
   "outputs": [
    {
     "name": "stdout",
     "output_type": "stream",
     "text": [
      "Genre: Communication. Avg Rating: 38456119.2\n",
      "Genre: Adventure;Action & Adventure. Avg Rating: 35333333.3\n",
      "Genre: Video Players & Editors. Avg Rating: 24947335.8\n",
      "Genre: Social. Avg Rating: 23253652.1\n",
      "Genre: Arcade. Avg Rating: 22888365.5\n",
      "Genre: Casual. Avg Rating: 19569221.6\n",
      "Genre: Puzzle;Action & Adventure. Avg Rating: 18366666.7\n",
      "Genre: Photography. Avg Rating: 17840110.4\n",
      "Genre: Educational;Action & Adventure. Avg Rating: 17016666.7\n",
      "Genre: Productivity. Avg Rating: 16787331.3\n",
      "Genre: Racing. Avg Rating: 15910645.7\n",
      "Genre: Travel & Local. Avg Rating: 14051476.1\n",
      "Genre: Casual;Action & Adventure. Avg Rating: 12916666.7\n",
      "Genre: Action. Avg Rating: 12603588.9\n",
      "Genre: Strategy. Avg Rating: 11199902.5\n",
      "Genre: Tools. Avg Rating: 10802461.2\n",
      "Genre: Lifestyle;Pretend Play. Avg Rating: 10000000.0\n",
      "Genre: Casual;Music & Video. Avg Rating: 10000000.0\n",
      "Genre: Tools;Education. Avg Rating: 10000000.0\n",
      "Genre: Card;Action & Adventure. Avg Rating: 10000000.0\n",
      "Genre: Adventure;Education. Avg Rating: 10000000.0\n",
      "Genre: Role Playing;Brain Games. Avg Rating: 10000000.0\n",
      "Genre: News & Magazines. Avg Rating: 9549178.5\n",
      "Genre: Music. Avg Rating: 9445583.3\n",
      "Genre: Educational;Pretend Play. Avg Rating: 9375000.0\n",
      "Genre: Puzzle;Brain Games. Avg Rating: 9280666.7\n",
      "Genre: Word. Avg Rating: 9094458.7\n",
      "Genre: Racing;Action & Adventure. Avg Rating: 8816666.7\n",
      "Genre: Books & Reference. Avg Rating: 8767811.9\n",
      "Genre: Puzzle. Avg Rating: 8302861.9\n",
      "Genre: Video Players & Editors;Music & Video. Avg Rating: 7500000.0\n",
      "Genre: Shopping. Avg Rating: 7036877.3\n",
      "Genre: Role Playing;Action & Adventure. Avg Rating: 7000000.0\n",
      "Genre: Casual;Pretend Play. Avg Rating: 6957142.9\n",
      "Genre: Entertainment;Music & Video. Avg Rating: 6413333.3\n",
      "Genre: Action;Action & Adventure. Avg Rating: 5888888.9\n",
      "Genre: Entertainment. Avg Rating: 5602792.8\n",
      "Genre: Education;Brain Games. Avg Rating: 5333333.3\n",
      "Genre: Casual;Creativity. Avg Rating: 5333333.3\n",
      "Genre: Role Playing;Pretend Play. Avg Rating: 5275000.0\n",
      "Genre: Personalization. Avg Rating: 5201482.6\n",
      "Genre: Weather. Avg Rating: 5074486.2\n",
      "Genre: Music;Music & Video. Avg Rating: 5050000.0\n",
      "Genre: Sports;Action & Adventure. Avg Rating: 5050000.0\n",
      "Genre: Video Players & Editors;Creativity. Avg Rating: 5000000.0\n",
      "Genre: Adventure. Avg Rating: 4922785.3\n",
      "Genre: Simulation;Action & Adventure. Avg Rating: 4857142.9\n",
      "Genre: Education;Education. Avg Rating: 4759517.0\n",
      "Genre: Board. Avg Rating: 4759209.1\n",
      "Genre: Sports. Avg Rating: 4596842.6\n",
      "Genre: Educational;Brain Games. Avg Rating: 4433333.3\n",
      "Genre: Health & Fitness. Avg Rating: 4188822.0\n",
      "Genre: Maps & Navigation. Avg Rating: 4056941.8\n",
      "Genre: Entertainment;Creativity. Avg Rating: 4000000.0\n",
      "Genre: Role Playing. Avg Rating: 3965645.4\n",
      "Genre: Card. Avg Rating: 3815462.5\n",
      "Genre: Trivia. Avg Rating: 3475712.7\n",
      "Genre: Simulation. Avg Rating: 3475484.1\n",
      "Genre: Casino. Avg Rating: 3427910.5\n",
      "Genre: Entertainment;Brain Games. Avg Rating: 3314285.7\n",
      "Genre: Arcade;Action & Adventure. Avg Rating: 3190909.2\n",
      "Genre: Board;Action & Adventure. Avg Rating: 3000000.0\n",
      "Genre: Entertainment;Pretend Play. Avg Rating: 3000000.0\n",
      "Genre: Education;Creativity. Avg Rating: 2875000.0\n",
      "Genre: Educational;Creativity. Avg Rating: 2333333.3\n",
      "Genre: Entertainment;Action & Adventure. Avg Rating: 2333333.3\n",
      "Genre: Art & Design. Avg Rating: 2122850.9\n",
      "Genre: Education;Music & Video. Avg Rating: 2033333.3\n",
      "Genre: Food & Drink. Avg Rating: 1924897.7\n",
      "Genre: Education;Pretend Play. Avg Rating: 1800000.0\n",
      "Genre: Educational;Education. Avg Rating: 1737143.1\n",
      "Genre: Business. Avg Rating: 1712290.1\n",
      "Genre: Casual;Brain Games. Avg Rating: 1425916.7\n",
      "Genre: Lifestyle. Avg Rating: 1412998.3\n",
      "Genre: Finance. Avg Rating: 1387692.5\n",
      "Genre: House & Home. Avg Rating: 1331540.6\n",
      "Genre: Parenting;Music & Video. Avg Rating: 1118333.3\n",
      "Genre: Entertainment;Education. Avg Rating: 1000000.0\n",
      "Genre: Casual;Education. Avg Rating: 1000000.0\n",
      "Genre: Arcade;Pretend Play. Avg Rating: 1000000.0\n",
      "Genre: Education;Action & Adventure. Avg Rating: 1000000.0\n",
      "Genre: Strategy;Action & Adventure. Avg Rating: 1000000.0\n",
      "Genre: Parenting;Brain Games. Avg Rating: 1000000.0\n",
      "Genre: Health & Fitness;Action & Adventure. Avg Rating: 1000000.0\n",
      "Genre: Racing;Pretend Play. Avg Rating: 1000000.0\n",
      "Genre: Strategy;Creativity. Avg Rating: 1000000.0\n",
      "Genre: Dating. Avg Rating: 854028.8\n",
      "Genre: Comics. Avg Rating: 831873.1\n",
      "Genre: Puzzle;Creativity. Avg Rating: 750000.0\n",
      "Genre: Auto & Vehicles. Avg Rating: 647317.8\n",
      "Genre: Libraries & Demo. Avg Rating: 638503.7\n",
      "Genre: Education. Avg Rating: 550185.4\n",
      "Genre: Simulation;Pretend Play. Avg Rating: 550000.0\n",
      "Genre: Beauty. Avg Rating: 513151.9\n",
      "Genre: Art & Design;Pretend Play. Avg Rating: 500000.0\n",
      "Genre: Music & Audio;Music & Video. Avg Rating: 500000.0\n",
      "Genre: Strategy;Education. Avg Rating: 500000.0\n",
      "Genre: Communication;Creativity. Avg Rating: 500000.0\n",
      "Genre: Parenting. Avg Rating: 467977.5\n",
      "Genre: Parenting;Education. Avg Rating: 452857.1\n",
      "Genre: Educational. Avg Rating: 411184.8\n",
      "Genre: Board;Brain Games. Avg Rating: 407142.9\n",
      "Genre: Art & Design;Creativity. Avg Rating: 285000.0\n",
      "Genre: Events. Avg Rating: 253542.2\n",
      "Genre: Medical. Avg Rating: 120550.6\n",
      "Genre: Art & Design;Action & Adventure. Avg Rating: 100000.0\n",
      "Genre: Health & Fitness;Education. Avg Rating: 100000.0\n",
      "Genre: Travel & Local;Action & Adventure. Avg Rating: 100000.0\n",
      "Genre: Lifestyle;Education. Avg Rating: 100000.0\n",
      "Genre: Puzzle;Education. Avg Rating: 100000.0\n",
      "Genre: Comics;Creativity. Avg Rating: 50000.0\n",
      "Genre: Books & Reference;Education. Avg Rating: 1000.0\n",
      "Genre: Simulation;Education. Avg Rating: 500.0\n",
      "Genre: Trivia;Education. Avg Rating: 100.0\n"
     ]
    }
   ],
   "source": [
    "genre_freq = freq_table(play_store_free, 9)\n",
    "avg_genre_installs = {}\n",
    "for genre in genre_freq:\n",
    "    total = 0\n",
    "    len_genre = 0\n",
    "    for app in play_store_free:\n",
    "        genre_app = app[9]\n",
    "        if genre_app == genre:\n",
    "            installs = app[5]\n",
    "            installs = installs.replace(',', '')\n",
    "            installs = installs.replace('+', '')\n",
    "            installs = int(installs)\n",
    "            total += installs\n",
    "            len_genre += 1\n",
    "    avg_genre_installs[genre] = total / len_genre\n",
    "    \n",
    "for genre, rating in sorted(avg_genre_installs.items(),\n",
    "                               key = lambda x : x[1], reverse = True):\n",
    "    print(F'Genre: {genre}. Avg Rating: {rating:.1f}')"
   ]
  },
  {
   "cell_type": "markdown",
   "metadata": {},
   "source": [
    "Just like the Categories, Communication has the highest rating. However, we have already concluded that it is dominated by some apps. The genres that are most popular mostly belong to the Games category. So, if we were to include a Game in our portfolio, it should belong to Adventure;Action & Adventure but it should also involve some puzzles, educational content, and a racing feature. \n",
    "\n",
    "This app would probably be more profitable on the Play Store as compared to App Store since the Games `prime_genre` is on the lower end of installs there."
   ]
  },
  {
   "cell_type": "markdown",
   "metadata": {},
   "source": [
    "# Conclusions\n",
    "In this project, we analyzed data about the App Store and Google Play mobile apps with the goal of recommending an app profile that can be profitable for both markets.\n",
    "\n",
    "We concluded that taking a popular book (perhaps a more recent book) and turning it into an app could be profitable for both the Google Play and the App Store markets. The markets are already full of libraries, so we need to add some special features besides the raw version of the book. This might include daily quotes from the book, an audio version of the book, quizzes on the book, a forum where people can discuss the book, etc."
   ]
  }
 ],
 "metadata": {
  "kernelspec": {
   "display_name": "Python 3",
   "language": "python",
   "name": "python3"
  },
  "language_info": {
   "codemirror_mode": {
    "name": "ipython",
    "version": 3
   },
   "file_extension": ".py",
   "mimetype": "text/x-python",
   "name": "python",
   "nbconvert_exporter": "python",
   "pygments_lexer": "ipython3",
   "version": "3.7.7"
  }
 },
 "nbformat": 4,
 "nbformat_minor": 2
}
